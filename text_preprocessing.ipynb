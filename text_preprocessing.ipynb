{
 "cells": [
  {
   "cell_type": "code",
   "execution_count": 55,
   "metadata": {},
   "outputs": [],
   "source": [
    "import pandas as pd\n",
    "import numpy as np\n",
    "import matplotlib.pyplot as plt\n",
    "import sklearn\n",
    "import jieba\n",
    "from nltk import word_tokenize"
   ]
  },
  {
   "cell_type": "code",
   "execution_count": 56,
   "metadata": {},
   "outputs": [
    {
     "data": {
      "text/plain": [
       "'0.24.0'"
      ]
     },
     "execution_count": 56,
     "metadata": {},
     "output_type": "execute_result"
    }
   ],
   "source": [
    "sklearn.__version__"
   ]
  },
  {
   "cell_type": "code",
   "execution_count": 57,
   "metadata": {},
   "outputs": [],
   "source": [
    "finance_df = pd.read_csv(\"data/finance_data.csv\")\n",
    "news_df = pd.read_csv(\"data/news_data.csv\")"
   ]
  },
  {
   "cell_type": "code",
   "execution_count": 58,
   "metadata": {},
   "outputs": [
    {
     "data": {
      "text/html": [
       "<div>\n",
       "<style scoped>\n",
       "    .dataframe tbody tr th:only-of-type {\n",
       "        vertical-align: middle;\n",
       "    }\n",
       "\n",
       "    .dataframe tbody tr th {\n",
       "        vertical-align: top;\n",
       "    }\n",
       "\n",
       "    .dataframe thead th {\n",
       "        text-align: right;\n",
       "    }\n",
       "</style>\n",
       "<table border=\"1\" class=\"dataframe\">\n",
       "  <thead>\n",
       "    <tr style=\"text-align: right;\">\n",
       "      <th></th>\n",
       "      <th>Unnamed: 0</th>\n",
       "      <th>ts_code</th>\n",
       "      <th>trade_date</th>\n",
       "      <th>close</th>\n",
       "      <th>open</th>\n",
       "      <th>high</th>\n",
       "      <th>low</th>\n",
       "      <th>pre_close</th>\n",
       "      <th>change</th>\n",
       "      <th>pct_chg</th>\n",
       "      <th>vol</th>\n",
       "      <th>amount</th>\n",
       "    </tr>\n",
       "  </thead>\n",
       "  <tbody>\n",
       "    <tr>\n",
       "      <th>0</th>\n",
       "      <td>0</td>\n",
       "      <td>000001.SH</td>\n",
       "      <td>20201231</td>\n",
       "      <td>3473.0693</td>\n",
       "      <td>3419.7267</td>\n",
       "      <td>3474.9182</td>\n",
       "      <td>3419.7267</td>\n",
       "      <td>3414.4527</td>\n",
       "      <td>58.6166</td>\n",
       "      <td>1.7167</td>\n",
       "      <td>335673926.0</td>\n",
       "      <td>450482318.9</td>\n",
       "    </tr>\n",
       "    <tr>\n",
       "      <th>1</th>\n",
       "      <td>1</td>\n",
       "      <td>000001.SH</td>\n",
       "      <td>20201230</td>\n",
       "      <td>3414.4527</td>\n",
       "      <td>3375.0086</td>\n",
       "      <td>3414.4539</td>\n",
       "      <td>3374.4156</td>\n",
       "      <td>3379.0362</td>\n",
       "      <td>35.4165</td>\n",
       "      <td>1.0481</td>\n",
       "      <td>291023543.0</td>\n",
       "      <td>377542350.9</td>\n",
       "    </tr>\n",
       "    <tr>\n",
       "      <th>2</th>\n",
       "      <td>2</td>\n",
       "      <td>000001.SH</td>\n",
       "      <td>20201229</td>\n",
       "      <td>3379.0362</td>\n",
       "      <td>3399.2939</td>\n",
       "      <td>3407.0884</td>\n",
       "      <td>3376.0876</td>\n",
       "      <td>3397.2854</td>\n",
       "      <td>-18.2492</td>\n",
       "      <td>-0.5372</td>\n",
       "      <td>311769185.0</td>\n",
       "      <td>382102563.8</td>\n",
       "    </tr>\n",
       "    <tr>\n",
       "      <th>3</th>\n",
       "      <td>3</td>\n",
       "      <td>000001.SH</td>\n",
       "      <td>20201228</td>\n",
       "      <td>3397.2854</td>\n",
       "      <td>3396.3590</td>\n",
       "      <td>3412.5193</td>\n",
       "      <td>3383.6540</td>\n",
       "      <td>3396.5626</td>\n",
       "      <td>0.7228</td>\n",
       "      <td>0.0213</td>\n",
       "      <td>316181542.0</td>\n",
       "      <td>398159968.8</td>\n",
       "    </tr>\n",
       "    <tr>\n",
       "      <th>4</th>\n",
       "      <td>4</td>\n",
       "      <td>000001.SH</td>\n",
       "      <td>20201225</td>\n",
       "      <td>3396.5626</td>\n",
       "      <td>3351.7901</td>\n",
       "      <td>3397.0066</td>\n",
       "      <td>3348.3453</td>\n",
       "      <td>3363.1133</td>\n",
       "      <td>33.4493</td>\n",
       "      <td>0.9946</td>\n",
       "      <td>294546895.0</td>\n",
       "      <td>359094444.7</td>\n",
       "    </tr>\n",
       "  </tbody>\n",
       "</table>\n",
       "</div>"
      ],
      "text/plain": [
       "   Unnamed: 0    ts_code  trade_date      close       open       high  \\\n",
       "0           0  000001.SH    20201231  3473.0693  3419.7267  3474.9182   \n",
       "1           1  000001.SH    20201230  3414.4527  3375.0086  3414.4539   \n",
       "2           2  000001.SH    20201229  3379.0362  3399.2939  3407.0884   \n",
       "3           3  000001.SH    20201228  3397.2854  3396.3590  3412.5193   \n",
       "4           4  000001.SH    20201225  3396.5626  3351.7901  3397.0066   \n",
       "\n",
       "         low  pre_close   change  pct_chg          vol       amount  \n",
       "0  3419.7267  3414.4527  58.6166   1.7167  335673926.0  450482318.9  \n",
       "1  3374.4156  3379.0362  35.4165   1.0481  291023543.0  377542350.9  \n",
       "2  3376.0876  3397.2854 -18.2492  -0.5372  311769185.0  382102563.8  \n",
       "3  3383.6540  3396.5626   0.7228   0.0213  316181542.0  398159968.8  \n",
       "4  3348.3453  3363.1133  33.4493   0.9946  294546895.0  359094444.7  "
      ]
     },
     "execution_count": 58,
     "metadata": {},
     "output_type": "execute_result"
    }
   ],
   "source": [
    "finance_df.head()"
   ]
  },
  {
   "cell_type": "code",
   "execution_count": 59,
   "metadata": {},
   "outputs": [
    {
     "data": {
      "text/plain": [
       "(243, 12)"
      ]
     },
     "execution_count": 59,
     "metadata": {},
     "output_type": "execute_result"
    }
   ],
   "source": [
    "finance_df.shape"
   ]
  },
  {
   "cell_type": "code",
   "execution_count": 60,
   "metadata": {},
   "outputs": [
    {
     "data": {
      "text/html": [
       "<div>\n",
       "<style scoped>\n",
       "    .dataframe tbody tr th:only-of-type {\n",
       "        vertical-align: middle;\n",
       "    }\n",
       "\n",
       "    .dataframe tbody tr th {\n",
       "        vertical-align: top;\n",
       "    }\n",
       "\n",
       "    .dataframe thead th {\n",
       "        text-align: right;\n",
       "    }\n",
       "</style>\n",
       "<table border=\"1\" class=\"dataframe\">\n",
       "  <thead>\n",
       "    <tr style=\"text-align: right;\">\n",
       "      <th></th>\n",
       "      <th>Unnamed: 0</th>\n",
       "      <th>date</th>\n",
       "      <th>news</th>\n",
       "      <th>score</th>\n",
       "      <th>category</th>\n",
       "    </tr>\n",
       "  </thead>\n",
       "  <tbody>\n",
       "    <tr>\n",
       "      <th>0</th>\n",
       "      <td>0</td>\n",
       "      <td>01月16</td>\n",
       "      <td>盈趣科技：利润率过于优秀</td>\n",
       "      <td>0.896216</td>\n",
       "      <td>1</td>\n",
       "    </tr>\n",
       "    <tr>\n",
       "      <th>1</th>\n",
       "      <td>4</td>\n",
       "      <td>01月14</td>\n",
       "      <td>2021年1月15日涨停板早知道：七大利好有望发酵</td>\n",
       "      <td>0.643451</td>\n",
       "      <td>1</td>\n",
       "    </tr>\n",
       "    <tr>\n",
       "      <th>2</th>\n",
       "      <td>5</td>\n",
       "      <td>01月13</td>\n",
       "      <td>2021年1月14日涨停板早知道：七大利好有望发酵</td>\n",
       "      <td>0.662349</td>\n",
       "      <td>1</td>\n",
       "    </tr>\n",
       "    <tr>\n",
       "      <th>3</th>\n",
       "      <td>6</td>\n",
       "      <td>01月12</td>\n",
       "      <td>2021年1月13日涨停板早知道：七大利好有望发酵</td>\n",
       "      <td>0.673256</td>\n",
       "      <td>1</td>\n",
       "    </tr>\n",
       "    <tr>\n",
       "      <th>4</th>\n",
       "      <td>7</td>\n",
       "      <td>01月11</td>\n",
       "      <td>2021年1月12日涨停板早知道：七大利好有望发酵</td>\n",
       "      <td>0.594757</td>\n",
       "      <td>1</td>\n",
       "    </tr>\n",
       "  </tbody>\n",
       "</table>\n",
       "</div>"
      ],
      "text/plain": [
       "   Unnamed: 0   date                       news     score  category\n",
       "0           0  01月16               盈趣科技：利润率过于优秀  0.896216         1\n",
       "1           4  01月14  2021年1月15日涨停板早知道：七大利好有望发酵  0.643451         1\n",
       "2           5  01月13  2021年1月14日涨停板早知道：七大利好有望发酵  0.662349         1\n",
       "3           6  01月12  2021年1月13日涨停板早知道：七大利好有望发酵  0.673256         1\n",
       "4           7  01月11  2021年1月12日涨停板早知道：七大利好有望发酵  0.594757         1"
      ]
     },
     "execution_count": 60,
     "metadata": {},
     "output_type": "execute_result"
    }
   ],
   "source": [
    "news_df.head()"
   ]
  },
  {
   "cell_type": "code",
   "execution_count": 61,
   "metadata": {},
   "outputs": [
    {
     "data": {
      "text/plain": [
       "(241, 5)"
      ]
     },
     "execution_count": 61,
     "metadata": {},
     "output_type": "execute_result"
    }
   ],
   "source": [
    "news_df.shape"
   ]
  },
  {
   "cell_type": "code",
   "execution_count": 62,
   "metadata": {},
   "outputs": [
    {
     "name": "stdout",
     "output_type": "stream",
     "text": [
      "241\n",
      "09月09    1\n",
      "05月06    1\n",
      "10月30    1\n",
      "11月17    1\n",
      "06月04    1\n",
      "        ..\n",
      "08月09    1\n",
      "11月28    1\n",
      "05月31    1\n",
      "09月07    1\n",
      "10月21    1\n",
      "Name: date, Length: 241, dtype: int64\n"
     ]
    }
   ],
   "source": [
    "date = news_df[\"date\"].value_counts()\n",
    "date_list = news_df[\"date\"].values\n",
    "print(len(date))\n",
    "print(date)"
   ]
  },
  {
   "cell_type": "code",
   "execution_count": 63,
   "metadata": {},
   "outputs": [
    {
     "name": "stdout",
     "output_type": "stream",
     "text": [
      "241\n",
      "['盈趣科技：利润率过于优秀' '2021年1月15日涨停板早知道：七大利好有望发酵' '2021年1月14日涨停板早知道：七大利好有望发酵'\n",
      " '2021年1月13日涨停板早知道：七大利好有望发酵' '2021年1月12日涨停板早知道：七大利好有望发酵'\n",
      " '2021年1月11日涨停板早知道：七大利好有望发酵' '2021年1月8日涨停板早知道：七大利好有望发酵'\n",
      " '2021年1月7日涨停板早知道：七大利好有望发酵' '2021年1月6日涨停板早知道：七大利好有望发酵'\n",
      " '央行等6部委发布跨境人民币优化政策 产业迎来增量红利(附股)' '2021年1月4日涨停板早知道：七大利好有望发酵'\n",
      " '德冠新材IPO过会 禁塑令下毛利率落后同行、偿债压力在身' '2020年12月31日涨停板早知道：七大利好有望发酵'\n",
      " '2020年12月30日涨停板早知道：七大利好有望发酵' '2020年12月29日涨停板早知道：七大利好有望发酵'\n",
      " '2020年12月28日涨停板早知道：七大利好有望发酵' '我国空间站核心舱明年春季发射 航天相关个股投资价值显现(附股)'\n",
      " '2020年12月25日涨停板早知道：七大利好有望发酵' '2020年12月24日涨停板早知道：七大利好有望发酵'\n",
      " '2020年12月23日涨停板早知道：七大利好有望发酵' '3大概念爆巨大利好：国新办重磅发布白皮书 或引领市场关注这些股'\n",
      " '2020年12月21日涨停板早知道：七大利好有望发酵' '2020年12月18日涨停板早知道：七大利好有望发酵'\n",
      " '2020年12月17日涨停板早知道：七大利好有望发酵' '2020年12月16日涨停板早知道：七大利好有望发酵'\n",
      " '2020年12月15日涨停板早知道：七大利好有望发酵' '2020年12月14日涨停板早知道：七大利好有望发酵'\n",
      " '白酒、铁矿石、金融行情已轮番启动 三位一体补涨个股竟然是它' 'AI大潮将来袭：人工智能多领域应用 哪些产业链值得关注？(股)'\n",
      " '三部门深入推进互联网医疗 相关概念股有望受益' '新冠疫苗接连传利好 概念股机会又来了（附股）'\n",
      " '2022年苹果或配备潜望式长焦镜头 关注行业龙头机会' '汽车行业遇“缺芯”：国产芯片的机会来了(附股)'\n",
      " '2020年12月7日涨停板早知道：七大利好有望发酵' '“十四五”规划推出在即：国产替代迎加速 智能机器人站上风口'\n",
      " '2020年12月4日涨停板早知道：七大利好有望发酵' '2020年12月3日涨停板早知道：七大利好有望发酵'\n",
      " '2020年12月2日涨停板早知道：七大利好有望发酵' '2020年12月1日涨停板早知道：七大利好有望发酵'\n",
      " '2020年11月30日涨停板早知道：七大利好有望发酵' '本周114家公司遭股东减持 这5家公司被减持最多（附表格）'\n",
      " '2020年11月27日涨停板早知道：七大利好有望发酵' '2020年11月26日涨停板早知道：七大利好有望发酵'\n",
      " '成功挤掉苹果：小米手机全球销量挺进前三 背后有这些供应商' '2020年11月24日涨停板早知道：七大利好有望发酵'\n",
      " '小电车蕴含大市场 机构称未来三年单车产量复合增长率将超30%(股)' '拉尼娜来袭 一文看清相关行业投资机会（附股）'\n",
      " '2020年11月20日涨停板早知道：七大利好有望发酵' '2020年11月19日涨停板早知道：七大利好有望发酵'\n",
      " '2020年11月18日涨停板早知道：七大利好有望发酵' '2020年11月17日涨停板早知道：七大利好有望发酵'\n",
      " '2020年11月16日涨停板早知道：七大利好有望发酵' '政策暖风频吹：多地抓紧布局 关注燃料电池产业链'\n",
      " '2020年11月13日涨停板早知道：七大利好有望发酵' '顺周期概念股全面爆发 还有哪些板块可挖掘？'\n",
      " '2020年11月11日涨停板早知道：七大利好有望发酵' '辉瑞新冠疫苗有效性超90% 这些疫苗概念股可关注(附股)'\n",
      " '2020年11月9日涨停板早知道：七大利好有望发酵' '航运行业持续高景气 机构：集装箱紧缺状态至少持续半年'\n",
      " '2020年11月6日涨停板早知道：七大利好有望发酵' '2020年11月5日涨停板早知道：七大利好有望发酵'\n",
      " '2020年11月4日涨停板早知道：七大利好有望发酵' '2020年11月3日涨停板早知道：七大利好有望发酵'\n",
      " '2020年11月2日涨停板早知道：七大利好有望发酵' '华为发布亚米级车道导航：高精度定位商用落地再进一步(名单)'\n",
      " '2020年10月30日涨停板早知道：七大利好有望发酵' '2020年10月29日涨停板早知道：七大利好有望发酵'\n",
      " '2020年10月28日涨停板早知道：七大利好有望发酵' '2020年10月27日涨停板早知道：七大利好有望发酵'\n",
      " '2020年10月26日涨停板早知道：七大利好有望发酵' '9月份皮卡市场销售同比增长39% 有望继续保持增长态势(附股)'\n",
      " '2020年10月23日涨停板早知道：七大利好有望发酵' '2020年10月22日涨停板早知道：七大利好有望发酵'\n",
      " '2020年10月21日涨停板早知道：七大利好有望发酵' '2020年10月20日涨停板早知道：七大利好有望发酵'\n",
      " '2020年10月19日涨停板早知道：七大利好有望发酵' '2020年10月16日涨停板早知道：七大利好有望发酵'\n",
      " '2020年10月15日涨停板早知道：七大利好有望发酵' '2020年10月14日涨停板早知道：七大利好有望发酵'\n",
      " '2020年10月13日涨停板早知道：七大利好有望发酵' '2020年10月12日涨停板早知道：七大利好有望发酵'\n",
      " '2020年10月9日涨停板早知道：七大利好有望发酵' '2020年9月30日涨停板早知道：七大利好有望发酵'\n",
      " '2020年9月29日涨停板早知道：七大利好有望发酵' '2020年9月28日涨停板早知道：七大利好有望发酵'\n",
      " '2020年9月25日涨停板早知道：七大利好有望发酵' '2020年9月24日涨停板早知道：七大利好有望发酵'\n",
      " '2020年9月23日涨停板早知道：七大利好有望发酵' '2020年9月22日涨停板早知道：七大利好有望发酵'\n",
      " '2020年9月21日涨停板早知道：七大利好有望发酵' '产业人士预警：模拟芯片产能告急 本土公司机遇显现'\n",
      " '2020年9月18日涨停板早知道：七大利好有望发酵' '2020年9月17日涨停板早知道：七大利好有望发酵'\n",
      " '2020年9月16日涨停板早知道：七大利好有望发酵' '2020年9月15日涨停板早知道：七大利好有望发酵'\n",
      " '中德欧领导人明天会晤 致力于年内如期完成中欧投资协定' '2020年9月11日涨停板早知道：七大利好有望发酵'\n",
      " '2020年9月10日涨停板早知道：七大利好有望发酵' '2020年9月9日涨停板早知道：七大利好有望发酵'\n",
      " '2020年9月8日涨停板早知道：七大利好有望发酵' '2020年9月7日涨停板早知道：七大利好有望发酵'\n",
      " '核电蓝海市场再启航审批或将常态化 机构：产业链个股有望受益' '2020年9月4日涨停板早知道：七大利好有望发酵'\n",
      " '2020年9月3日涨停板早知道：七大利好有望发酵' '2020年9月2日涨停板早知道：七大利好有望发酵'\n",
      " '2020年9月1日涨停板早知道：七大利好有望发酵' '2020年8月31日涨停板早知道：七大利好有望发酵'\n",
      " '2020年8月28日涨停板早知道：七大利好有望发酵' '2020年8月27日涨停板早知道：七大利好有望发酵'\n",
      " '重磅！蚂蚁集团沪港同步递交招股文件 影响股一览' '广州开展智能网联汽车道路测试 产业链相关公司有望受益'\n",
      " '2020年8月24日涨停板早知道：七大利好有望发酵' '中信证券：维持歌尔股份股票“买入”评级'\n",
      " '2020年8月21日涨停板早知道：七大利好有望发酵' '2020年8月20日涨停板早知道：七大利好有望发酵'\n",
      " '2020年8月19日涨停板早知道：七大利好有望发酵' '2020年8月18日涨停板早知道：七大利好有望发酵'\n",
      " '2020年8月17日涨停板早知道：七大利好有望发酵' '华为鸿蒙车载系统揭开面纱 未来操作系统将成汽车发展灵魂'\n",
      " '2020年8月14日涨停板早知道：七大利好有望发酵' '复工不到一个月：电影院线再迎利好 龙头股迎估值修复机会'\n",
      " '2020年8月12日涨停板早知道：七大利好有望发酵' '8月11日涨停板早知道：七大利好有望发酵'\n",
      " '头部影片定档助推电影市场复苏 两主线掘金相关板块机会' '政策加码智慧交通：产业发展进程望提速 关注受益股'\n",
      " '市场规模今年有望超10亿元 云游戏将进入快速成长期(股)' '8月6日涨停板早知道：七大利好有望发酵'\n",
      " '8月5日涨停板早知道：七大利好有望发酵' '8月4日涨停板早知道：七大利好有望发酵' '8月3日涨停板早知道：七大利好有望发酵'\n",
      " '军工板块再迎风口 机构建议关注五条主线（附股）' '7月31日涨停板早知道：七大利好有望发酵' '7月30日涨停板早知道：七大利好有望发酵'\n",
      " '7月29日涨停板早知道：七大利好有望发酵' '7月28日涨停板早知道：七大利好有望发酵' '7月27日涨停板早知道：七大利好有望发酵'\n",
      " '德林海：高速成长、站上风口的湖库蓝藻治理行业龙头企业' '直播和短视频仍处黄金发展赛道 关注相关上市公司（附股）'\n",
      " '7月24日涨停板早知道：七大利好有望发酵' '7月23日涨停板早知道：七大利好有望发酵' '7月22日涨停板早知道：七大利好有望发酵'\n",
      " '7月21日涨停板早知道：七大利好有望发酵' '7月20日涨停板早知道：七大利好有望发酵' '7月17日涨停板早知道：七大利好有望发酵'\n",
      " 'OPPO发布125W超级快充 GaN相关概念股有望受关注(股)' '7月15日涨停板早知道：七大利好有望发酵'\n",
      " '1.29万亿投资、150项工程 水利建设加速下关注优质标的' '7月13日涨停板早知道：七大利好有望发酵'\n",
      " '7月10日涨停板早知道：七大利好有望发酵' '7月9日涨停板早知道：七大利好有望发酵' '7月8日涨停板早知道：七大利好有望发酵'\n",
      " '7月7日涨停板早知道：七大利好有望发酵' '7月6日涨停板早知道：七大利好有望发酵' '7月3日涨停板早知道：七大利好有望发酵'\n",
      " '7月2日涨停板早知道：七大利好有望发酵' '首批11家券商7月金股出炉 7月爆发力在消费？(名单)'\n",
      " '6月30日涨停板早知道：七大利好有望发酵' '数据安全立法再进一步：草案初次提请审议 这些龙头或受益'\n",
      " '方正证券：与粉丝建立强烈情感联系 潮玩龙头发展空间有多大？' '6月24日涨停板早知道：七大利好有望发酵'\n",
      " '6月23日涨停板早知道：七大利好有望发酵' '6月22日涨停板早知道：七大利好有望发酵' '6月19日涨停板早知道：七大利好有望发酵'\n",
      " '6月18日涨停板早知道：七大利好有望发酵' '6月17日涨停板早知道：七大利好有望发酵' '6月16日涨停板早知道：七大利好有望发酵'\n",
      " '6月初新冠检测数据暴增85% 核心标的或再腾飞(附股)' '6月12日涨停板早知道：七大利好有望发酵'\n",
      " '6月11日涨停板早知道：七大利好有望发酵' '6月10日涨停板早知道：七大利好有望发酵' '6月9日涨停板早知道：七大利好有望发酵'\n",
      " '6月8日涨停板早知道：七大利好有望发酵' '未预披露减持计划 百邦科技控股股东违规套现86万元' '6月5日涨停板早知道：七大利好有望发酵'\n",
      " '6月4日涨停板早知道：七大利好有望发酵' '6月3日涨停板早知道：七大利好有望发酵' '6月2日涨停板早知道：七大利好有望发酵'\n",
      " '6月1日涨停板早知道：七大利好有望发酵' '体外诊断板块多股涨停 主力最高杀入超20亿元(股)' '5月29日涨停板早知道：七大利好有望发酵'\n",
      " '5月28日涨停板早知道：七大利好有望发酵' '5月27日涨停板早知道：七大利好有望发酵' '5月26日涨停板早知道：七大利好有望发酵'\n",
      " '5月25日涨停板早知道：七大利好有望发酵' '5月22日涨停板早知道：七大利好有望发酵' '5月21日涨停板早知道：七大利好有望发酵'\n",
      " '5月20日涨停板早知道：七大利好有望发酵' '5月19日涨停板早知道：七大利好有望发酵' '大基金二期拟增资中芯南方 芯片国产化进程提速(股)'\n",
      " '零食股大PK：三只松鼠、良品铺子、百草味谁领风骚？' '5月15日涨停板早知道：七大利好有望发酵' '5月14日涨停板早知道：七大利好有望发酵'\n",
      " '5月13日涨停板早知道：七大利好有望发酵' '5月12日涨停板早知道：七大利好有望发酵' '5月11日涨停板早知道：七大利好有望发酵'\n",
      " 'Q1主动偏股型基金仓位下调 医药与计算机行业增配明显(附股)' '风险预期修复夯实估值底线 银行股估值上行可期'\n",
      " '12亿连接数、NB-IoT+Cat1覆盖扩大 这份文件信息量爆棚(股)' '5月7日涨停板早知道：七大利好有望发酵'\n",
      " '5月6日涨停板早知道：七大利好有望发酵' '一季度险资大笔加仓：累计举牌9次 青睐银行、材料'\n",
      " '政治局会议强调加快湖北基建 本地股受益（附股）' '4月29日涨停板早知道：七大利好有望发酵' '4月28日涨停板早知道：七大利好有望发酵'\n",
      " '4月27日涨停板早知道：七大利好有望发酵' '科创板\"硬实力\"浮出水面 9家公司连续两年研发投入占比超20%'\n",
      " '全球射频巨头在墨工厂停产 国产化的机会来了？(附股)' '4月24日涨停板早知道：七大利好有望发酵'\n",
      " '4月23日涨停板早知道：七大利好有望发酵' '4月22日涨停板早知道：七大利好有望发酵' '4月21日涨停板早知道：七大利好有望发酵'\n",
      " '水泥涨价模式开启 相关概念股有望受益（股）' '医疗设备采购潮逻辑持续兑现 关注医疗基建带来的板块性机会'\n",
      " '4月17日涨停板早知道：七大利好有望发酵' '4月16日涨停板早知道：七大利好有望发酵' '4月15日涨停板早知道：七大利好有望发酵'\n",
      " '两天涨一倍：口罩需求引爆聚丙烯 相关公司股价大涨(股)' '4月13日涨停板早知道：七大利好有望发酵'\n",
      " '资金本周回流白酒股遭爆买 这些板块获大幅加仓(附股)' '4月10日涨停板早知道：七大利好有望发酵' '4月9日涨停板早知道：七大利好有望发酵'\n",
      " '特斯拉概念股尾盘突然启动 券商推荐这几只标的(股)' '4月7日涨停板早知道：七大利好有望发酵'\n",
      " '兴业证券：新能源乘用车销量整体微增 关注特斯拉产业链(股)' '国信证券：持续看好华为产业链 维持行业\"超配\"评级'\n",
      " '主力资金净流出120亿：机构抢筹12股 这9股是买入评级' '川财证券：高护城河、宽竞赛道 模拟芯片市场广阔(股)'\n",
      " '平安证券：废电拆解空间广阔 行业洗牌持续推进(2股)' '3月30日涨停板早知道：七大利好有望发酵'\n",
      " '安信证券：中国5G新基建引领全球 无线资本开支倍增(股)' '3月27日涨停板早知道：七大利好有望发酵'\n",
      " '3月26日涨停板早知道：七大利好有望发酵' '3月25日涨停板早知道：七大利好有望发酵' '3月24日涨停板早知道：七大利好有望发酵'\n",
      " '3月23日涨停板早知道：七大利好有望发酵' '电子板块安全边际凸显 机构推荐三大主线22只个股'\n",
      " '国信证券：汽车汽配进入高性价比配置阶段 精选4主线' '兴业证券：特斯拉进入全球放量大周期 相关标的受益'\n",
      " '政策力促文旅业重振：叠加复工复产 三主线掘金板块' '3月18日涨停板早知道：七大利好有望发酵'\n",
      " '视频|多地推出鼓励购车政策 这些相关概念股值得关注']\n"
     ]
    }
   ],
   "source": [
    "news_list = news_df[\"news\"].values\n",
    "print(len(date))\n",
    "print(news_list)"
   ]
  },
  {
   "cell_type": "code",
   "execution_count": 64,
   "metadata": {},
   "outputs": [],
   "source": [
    "puncts = [\" \", \"  \", \"：\",\"，\",\"。\",\"；\",\"“\",\"”\",\"！\",\"？\",'!', ',' ,\n",
    "          '.' ,'?' ,'-s' ,'-ly' ,'</s> ', 's', ':', ';','$', '(', ')']\n",
    "def load_stopwords():\n",
    "    stopwords_list = []\n",
    "    filename = \"data/cn_stopwords.txt\"\n",
    "    f = open(filename, \"r\", encoding='UTF-8')  \n",
    "    lines = f.readlines()  \n",
    "    for line in lines:  \n",
    "        stopwords_list.append(line)\n",
    "    return stopwords_list\n",
    "    \n",
    "def clean_text(x):\n",
    "    x=x.strip()\n",
    "    for punct in puncts:\n",
    "        x=x.replace(punct,'')\n",
    "    return x\n",
    " \n",
    "def is_chinese(xchar):\n",
    "    if xchar>=u'\\u4e00' and xchar<=u'\\u9fa5':\n",
    "        return True\n",
    "    else:\n",
    "        return False\n",
    "def keep_chinese_text(x):\n",
    "    out_str=''\n",
    "    for i in x:\n",
    "        if is_chinese(i):\n",
    "            out_str=out_str+i\n",
    "    return out_str\n",
    " \n",
    "def seg_sentence(sentence,stopwords):\n",
    "    sentence_seged=jieba.cut(sentence)\n",
    "    outstr=''\n",
    "    for word in sentence_seged:\n",
    "        if word not in stopwords:\n",
    "                outstr+=word\n",
    "                outstr+=\" \"\n",
    "    return outstr"
   ]
  },
  {
   "cell_type": "code",
   "execution_count": 65,
   "metadata": {},
   "outputs": [],
   "source": [
    "stopwords_list = load_stopwords()"
   ]
  },
  {
   "cell_type": "code",
   "execution_count": 66,
   "metadata": {},
   "outputs": [],
   "source": [
    "news_df[\"news\"]=news_df[\"news\"].apply(lambda x:clean_text(x))\n",
    "news_df[\"news\"]=news_df[\"news\"].apply(lambda x:keep_chinese_text(x))\n",
    "news_df[\"news\"]=news_df[\"news\"].apply(lambda x:seg_sentence(x,stopwords_list))"
   ]
  },
  {
   "cell_type": "code",
   "execution_count": 67,
   "metadata": {},
   "outputs": [],
   "source": [
    "from sklearn.model_selection import train_test_split\n",
    "\n",
    "x_train, x_test, y_train, y_test = train_test_split(news_df[\"news\"], news_df[\"category\"], test_size=0.25)"
   ]
  },
  {
   "cell_type": "code",
   "execution_count": 68,
   "metadata": {},
   "outputs": [
    {
     "data": {
      "text/plain": [
       "95      中德欧 领导人 明天 会晤 致力于 年内 如期完成 中欧 投资 协定 \n",
       "19                年月日 涨停板 早 知道 七大 利好 有望 发酵 \n",
       "220               月 日 涨停板 早 知道 七大 利好 有望 发酵 \n",
       "197             亿 连接数 覆盖 扩大 这份 文件 信息量 爆棚 股 \n",
       "10                年月日 涨停板 早 知道 七大 利好 有望 发酵 \n",
       "                       ...                 \n",
       "169               月 日 涨停板 早 知道 七大 利好 有望 发酵 \n",
       "157    数据安全 立法 再进一步 草案 初次 提请 审议 这些 龙头 或 受益 \n",
       "179               月 日 涨停板 早 知道 七大 利好 有望 发酵 \n",
       "224         国信 证券 持续 看好 华为 产业链 维持 行业 超配 评级 \n",
       "1                 年月日 涨停板 早 知道 七大 利好 有望 发酵 \n",
       "Name: news, Length: 180, dtype: object"
      ]
     },
     "execution_count": 68,
     "metadata": {},
     "output_type": "execute_result"
    }
   ],
   "source": [
    "x_train"
   ]
  },
  {
   "cell_type": "code",
   "execution_count": 69,
   "metadata": {},
   "outputs": [
    {
     "data": {
      "text/plain": [
       "95     1\n",
       "19     1\n",
       "220    1\n",
       "197    0\n",
       "10     1\n",
       "      ..\n",
       "169    1\n",
       "157    1\n",
       "179    1\n",
       "224    1\n",
       "1      1\n",
       "Name: category, Length: 180, dtype: int64"
      ]
     },
     "execution_count": 69,
     "metadata": {},
     "output_type": "execute_result"
    }
   ],
   "source": [
    "y_train"
   ]
  },
  {
   "cell_type": "code",
   "execution_count": 70,
   "metadata": {},
   "outputs": [],
   "source": [
    "train_d = {'data':x_train,\n",
    "       'label':y_train}\n",
    "test_d = {'data':x_test,\n",
    "       'label':y_test}\n",
    "\n",
    "train_df = pd.DataFrame(train_d)\n",
    "test_df = pd.DataFrame(test_d)"
   ]
  },
  {
   "cell_type": "code",
   "execution_count": 71,
   "metadata": {},
   "outputs": [
    {
     "data": {
      "text/html": [
       "<div>\n",
       "<style scoped>\n",
       "    .dataframe tbody tr th:only-of-type {\n",
       "        vertical-align: middle;\n",
       "    }\n",
       "\n",
       "    .dataframe tbody tr th {\n",
       "        vertical-align: top;\n",
       "    }\n",
       "\n",
       "    .dataframe thead th {\n",
       "        text-align: right;\n",
       "    }\n",
       "</style>\n",
       "<table border=\"1\" class=\"dataframe\">\n",
       "  <thead>\n",
       "    <tr style=\"text-align: right;\">\n",
       "      <th></th>\n",
       "      <th>data</th>\n",
       "      <th>label</th>\n",
       "    </tr>\n",
       "  </thead>\n",
       "  <tbody>\n",
       "    <tr>\n",
       "      <th>95</th>\n",
       "      <td>中德欧 领导人 明天 会晤 致力于 年内 如期完成 中欧 投资 协定</td>\n",
       "      <td>1</td>\n",
       "    </tr>\n",
       "    <tr>\n",
       "      <th>19</th>\n",
       "      <td>年月日 涨停板 早 知道 七大 利好 有望 发酵</td>\n",
       "      <td>1</td>\n",
       "    </tr>\n",
       "    <tr>\n",
       "      <th>220</th>\n",
       "      <td>月 日 涨停板 早 知道 七大 利好 有望 发酵</td>\n",
       "      <td>1</td>\n",
       "    </tr>\n",
       "    <tr>\n",
       "      <th>197</th>\n",
       "      <td>亿 连接数 覆盖 扩大 这份 文件 信息量 爆棚 股</td>\n",
       "      <td>0</td>\n",
       "    </tr>\n",
       "    <tr>\n",
       "      <th>10</th>\n",
       "      <td>年月日 涨停板 早 知道 七大 利好 有望 发酵</td>\n",
       "      <td>1</td>\n",
       "    </tr>\n",
       "  </tbody>\n",
       "</table>\n",
       "</div>"
      ],
      "text/plain": [
       "                                    data  label\n",
       "95   中德欧 领导人 明天 会晤 致力于 年内 如期完成 中欧 投资 协定       1\n",
       "19             年月日 涨停板 早 知道 七大 利好 有望 发酵       1\n",
       "220            月 日 涨停板 早 知道 七大 利好 有望 发酵       1\n",
       "197          亿 连接数 覆盖 扩大 这份 文件 信息量 爆棚 股       0\n",
       "10             年月日 涨停板 早 知道 七大 利好 有望 发酵       1"
      ]
     },
     "execution_count": 71,
     "metadata": {},
     "output_type": "execute_result"
    }
   ],
   "source": [
    "train_df.head()"
   ]
  },
  {
   "cell_type": "code",
   "execution_count": 72,
   "metadata": {},
   "outputs": [
    {
     "data": {
      "text/html": [
       "<div>\n",
       "<style scoped>\n",
       "    .dataframe tbody tr th:only-of-type {\n",
       "        vertical-align: middle;\n",
       "    }\n",
       "\n",
       "    .dataframe tbody tr th {\n",
       "        vertical-align: top;\n",
       "    }\n",
       "\n",
       "    .dataframe thead th {\n",
       "        text-align: right;\n",
       "    }\n",
       "</style>\n",
       "<table border=\"1\" class=\"dataframe\">\n",
       "  <thead>\n",
       "    <tr style=\"text-align: right;\">\n",
       "      <th></th>\n",
       "      <th>data</th>\n",
       "      <th>label</th>\n",
       "    </tr>\n",
       "  </thead>\n",
       "  <tbody>\n",
       "    <tr>\n",
       "      <th>148</th>\n",
       "      <td>月 日 涨停板 早 知道 七大 利好 有望 发酵</td>\n",
       "      <td>1</td>\n",
       "    </tr>\n",
       "    <tr>\n",
       "      <th>36</th>\n",
       "      <td>年月日 涨停板 早 知道 七大 利好 有望 发酵</td>\n",
       "      <td>1</td>\n",
       "    </tr>\n",
       "    <tr>\n",
       "      <th>65</th>\n",
       "      <td>年月日 涨停板 早 知道 七大 利好 有望 发酵</td>\n",
       "      <td>1</td>\n",
       "    </tr>\n",
       "    <tr>\n",
       "      <th>11</th>\n",
       "      <td>德冠新材 过会禁 塑令 下 毛利率 落后 同行 偿债 压力 在 身</td>\n",
       "      <td>0</td>\n",
       "    </tr>\n",
       "    <tr>\n",
       "      <th>189</th>\n",
       "      <td>零食 股大 三只 松鼠 良品 铺子 百草 味 谁 领风骚</td>\n",
       "      <td>1</td>\n",
       "    </tr>\n",
       "  </tbody>\n",
       "</table>\n",
       "</div>"
      ],
      "text/plain": [
       "                                   data  label\n",
       "148           月 日 涨停板 早 知道 七大 利好 有望 发酵       1\n",
       "36            年月日 涨停板 早 知道 七大 利好 有望 发酵       1\n",
       "65            年月日 涨停板 早 知道 七大 利好 有望 发酵       1\n",
       "11   德冠新材 过会禁 塑令 下 毛利率 落后 同行 偿债 压力 在 身       0\n",
       "189       零食 股大 三只 松鼠 良品 铺子 百草 味 谁 领风骚       1"
      ]
     },
     "execution_count": 72,
     "metadata": {},
     "output_type": "execute_result"
    }
   ],
   "source": [
    "test_df.head()"
   ]
  },
  {
   "cell_type": "code",
   "execution_count": 73,
   "metadata": {},
   "outputs": [
    {
     "data": {
      "text/plain": [
       "年月日 涨停板 早 知道 七大 利好 有望 发酵                       70\n",
       "月 日 涨停板 早 知道 七大 利好 有望 发酵                       58\n",
       "亿 连接数 覆盖 扩大 这份 文件 信息量 爆棚 股                      1\n",
       "华为 鸿蒙 车载 系统 揭开 面纱 未来 操作系统 将成 汽车 发展 灵魂           1\n",
       "新冠 疫苗 接连 传 利好 概念股 机会 又 来 了 附股                   1\n",
       "广州 开展 智能网 联 汽车 道路 测试 产业链 相关 公司 有望 受益            1\n",
       "产业 人士 预警 模拟 芯片 产能 告急 本土 公司 机遇 显现                1\n",
       "国信 证券 汽车 汽配 进入 高性价比 配置 阶段 精选 主线                 1\n",
       "资金 本周 回流 白酒 股遭 爆买 这些 板块 获 大幅 加仓 附股              1\n",
       "视频 多地 推出 鼓励 购车 政策 这些 相关 概念股 值得 关注               1\n",
       "成功 挤掉 苹果 小米 手机 全球 销量 挺进 前 三 背后 有 这些 供应商         1\n",
       "复工 不到 一个月 电影院线 再迎 利好 龙头股 迎 估值 修复 机会             1\n",
       "华为 发布 亚米级 车道 导航 高精度 定位 商用 落地 再进一步 名单            1\n",
       "汽车行业 遇缺 芯 国产 芯片 的 机会 来 了 附股                     1\n",
       "水泥 涨价 模式 开启 相关 概念股 有望 受益 股                      1\n",
       "顺 周期 概念股 全面 爆发 还有 哪些 板块 可 挖掘                    1\n",
       "中信证券 维持 歌尔 股份 股票 买入 评级                          1\n",
       "年 苹果 或 配备 潜望 式 长焦 镜头 关注 行业龙头 机会                 1\n",
       "一季度 险资 大笔 加仓 累计 举牌 次 青睐 银行 材料                   1\n",
       "头部 影片 定档 助推 电影 市场 复苏 两 主线 掘金 相关 板块 机会           1\n",
       "政治局 会议 强调 加快 湖北 基建 本地股 受益 附股                    1\n",
       "白酒 铁矿石 金融 行情 已 轮番 启动 三位一体 补涨 个股 竟然 是 它          1\n",
       "体外 诊断 板块 多 股 涨停 主力 最高 杀入 超 亿元 股                 1\n",
       "政策 加码 智慧 交通 产业 发展 进程 望 提速 关注 受益 股               1\n",
       "德 林海 高速成长 站上 风口 的 湖库 蓝藻 治理 行业龙头 企业              1\n",
       "直播 和 短 视频 仍处 黄金 发展 赛道 关注 相关 上市公司 附股             1\n",
       "军工 板块 再 迎风 口 机构 建议 关注 五条 主线 附股                  1\n",
       "主动 偏股 型基金 仓位 下调 医药 与 计算机行业 增配 明显 附股             1\n",
       "兴业 证券 新能源 乘用车 销量 整体 微增 关注 特斯拉 产业链 股             1\n",
       "万亿 投资 项 工程 水利建设 加速 下 关注 优质 标的                   1\n",
       "大潮 将来 袭 人工智能 多 领域 应用 哪些 产业链 值得 关注 股             1\n",
       "核电 蓝海 市场 再 启航 审批 或 将 常态 化 机构 产业链 个股 有望 受益       1\n",
       "科创板 硬 实力 浮出 水面 家 公司 连续 两年 研发 投入 占 比超            1\n",
       "重磅 蚂蚁 集团 沪 港 同步 递交 招股 文件 影响 股 一览                1\n",
       "小 电车 蕴含 大 市场 机构 称 未来 三年 单车 产量 复合 增长率 将 超股       1\n",
       "我国 空间站 核心 舱 明年 春季 发射 航天 相关 个股 投资 价值 显现 附股       1\n",
       "月份 皮卡 市场 销售 同比 增长 有望 继续 保持 增长 态势 附股             1\n",
       "大 基金 二期 拟 增资 中芯 南方 芯片 国产化 进程 提速 股               1\n",
       "兴业 证券 特斯拉 进入 全球 放量 大 周期 相关 标的 受益                1\n",
       "中德欧 领导人 明天 会晤 致力于 年内 如期完成 中欧 投资 协定              1\n",
       "数据安全 立法 再进一步 草案 初次 提请 审议 这些 龙头 或 受益             1\n",
       "平安 证券 废电 拆解 空间 广阔 行业 洗牌 持续 推进 股                 1\n",
       "本 周家 公司 遭 股东 减持 这家 公司 被 减持 最多 附 表格              1\n",
       "十四五 规划 推出 在 即 国产 替代 迎 加速 智能 机器人 站上 风口           1\n",
       "大 概念 爆 巨大 利好 国新办 重磅 发布 白皮书 或 引领 市场 关注 这些 股      1\n",
       "电子 板块 安全 边际 凸显 机构 推荐 三大 主线 只 个股                 1\n",
       "央行 等 部委 发布 跨境 人民币 优化 政策 产业 迎来 增量 红利 附股          1\n",
       "航运 行业 持续 高 景气 机构 集装箱 紧缺 状态 至少 持续 半年             1\n",
       "月初 新冠 检测 数据 暴增 核心 标的 或 再 腾飞 附股                  1\n",
       "国信 证券 持续 看好 华为 产业链 维持 行业 超配 评级                  1\n",
       "医疗 设备 采购 潮 逻辑 持续 兑现 关注 医疗 基建 带来 的 板块 性 机会       1\n",
       "辉瑞 新冠 疫苗 有效性 超 这些 疫苗 概念股 可 关注 附股                1\n",
       "盈趣 科技 利润率 过于 优秀                                 1\n",
       "主力 资金 净 流出 亿 机构 抢筹股 这股 是 买入 评级                  1\n",
       "Name: data, dtype: int64"
      ]
     },
     "execution_count": 73,
     "metadata": {},
     "output_type": "execute_result"
    }
   ],
   "source": [
    "train_df[\"data\"].value_counts()"
   ]
  },
  {
   "cell_type": "code",
   "execution_count": 74,
   "metadata": {},
   "outputs": [],
   "source": [
    "def createVocabList(dataSet):\n",
    "    vocabSet = set([])\n",
    "    for document in dataSet:\n",
    "        vocabSet = vocabSet | set(document)\n",
    "    return list(vocabSet)\n",
    "\n",
    "def bagOfWords2Vec(vocabList, inputSet):\n",
    "    returnVec = [0] * len(vocabList)\n",
    "    for word in inputSet:\n",
    "        if word in vocabList:\n",
    "            returnVec[vocabList.index(word)] += 1\n",
    "        else:\n",
    "            print(\"the word: %s is not in my vocabulary!\" % word)\n",
    "        return returnVec   "
   ]
  },
  {
   "cell_type": "code",
   "execution_count": 76,
   "metadata": {},
   "outputs": [],
   "source": [
    "all_cut_seg = []\n",
    "all_cut_words = [] # unique\n",
    "all_cut_raw_words = [] # all\n",
    "\n",
    "for text in train_df[\"data\"].values:   \n",
    "    word_list = word_tokenize(text)\n",
    "    all_cut_seg.append(word_list)\n",
    "    for word in word_list:\n",
    "        if (word.lower() not in stopwords_list):\n",
    "            all_cut_raw_words.append(word.lower())\n",
    "            if word not in all_cut_words:\n",
    "                all_cut_words.append(word.lower())"
   ]
  },
  {
   "cell_type": "code",
   "execution_count": 80,
   "metadata": {},
   "outputs": [
    {
     "name": "stdout",
     "output_type": "stream",
     "text": [
      "(180, 358)\n",
      "[[0 0 0 0 0 0 0 0 0 0 0 0 0 0 1 1 0 0 0 0 0 0 0 0 0 0 0 0 0 0 0 0 0 0 0 0\n",
      "  0 0 0 0 0 0 1 0 0 0 0 0 0 0 0 0 0 0 0 0 0 0 0 0 0 0 0 0 0 0 0 0 0 0 0 0\n",
      "  0 0 0 0 1 0 0 0 0 0 0 0 0 0 0 0 0 0 0 0 0 0 0 0 0 0 0 0 0 0 0 0 0 0 0 0\n",
      "  0 0 0 0 0 0 0 0 1 0 0 0 0 0 0 0 0 0 0 0 0 0 0 0 0 1 0 0 0 0 0 0 0 0 0 0\n",
      "  0 0 0 0 0 0 0 0 0 1 0 0 0 0 0 0 0 0 0 0 0 0 0 0 0 0 0 0 0 0 0 0 0 0 0 1\n",
      "  0 0 0 0 0 0 0 0 0 0 0 0 0 0 0 0 0 0 0 0 0 0 0 0 0 0 0 0 0 0 0 0 0 0 0 0\n",
      "  0 0 0 0 0 0 0 0 0 0 0 0 0 0 0 0 0 0 0 0 0 0 0 0 0 0 0 0 0 0 0 0 0 0 0 0\n",
      "  0 0 0 0 0 0 0 0 0 0 0 0 0 0 0 0 0 0 0 0 0 0 0 0 1 0 0 0 0 0 0 0 0 0 0 0\n",
      "  0 0 0 0 0 0 0 0 0 0 0 0 0 0 0 0 0 0 0 0 0 0 0 0 0 0 0 0 0 0 0 0 0 0 0 0\n",
      "  0 0 0 0 0 0 0 0 0 0 0 0 0 0 0 0 0 0 0 0 0 0 0 0 1 0 0 0 0 0 0 0 0 0]]\n"
     ]
    }
   ],
   "source": [
    "from sklearn.feature_extraction.text import CountVectorizer\n",
    "\n",
    "vectorizer = CountVectorizer()\n",
    "vectorizer.fit(train_df[\"data\"].values)\n",
    "X_train = vectorizer.transform(train_df[\"data\"].values)\n",
    "X_test  = vectorizer.transform(test_df[\"data\"].values)\n",
    "label_train = train_df[\"label\"].values\n",
    "label_test = test_df[\"label\"].values\n",
    "print(X_train.shape)\n",
    "print(X_train[0].toarray())"
   ]
  },
  {
   "cell_type": "code",
   "execution_count": 81,
   "metadata": {},
   "outputs": [
    {
     "name": "stdout",
     "output_type": "stream",
     "text": [
      "Accuracy of Naive Bayes model: 0.8555555555555555\n"
     ]
    }
   ],
   "source": [
    "from sklearn.naive_bayes import MultinomialNB\n",
    "from sklearn.svm import LinearSVC\n",
    "from sklearn.metrics import confusion_matrix\n",
    "\n",
    "classifier1 = MultinomialNB()\n",
    "classifier1.fit(X_train, label_train)\n",
    "score11 = classifier1.score(X_test, label_test)\n",
    "score12 = classifier1.score(X_train, label_train)\n",
    "print(\"Accuracy of Naive Bayes model:\", score12)"
   ]
  },
  {
   "cell_type": "code",
   "execution_count": 82,
   "metadata": {},
   "outputs": [
    {
     "name": "stdout",
     "output_type": "stream",
     "text": [
      "[[ 2  2]\n",
      " [ 2 55]]\n"
     ]
    }
   ],
   "source": [
    "result_svm = classifier1.predict(X_test)\n",
    "print(confusion_matrix(label_test, result_svm))"
   ]
  },
  {
   "cell_type": "code",
   "execution_count": 83,
   "metadata": {},
   "outputs": [
    {
     "name": "stdout",
     "output_type": "stream",
     "text": [
      "Accuracy of SVM model: 0.9888888888888889\n"
     ]
    }
   ],
   "source": [
    "classifier2 = LinearSVC()\n",
    "classifier2.fit(X_train, label_train)\n",
    "score21 = classifier2.score(X_test, label_test)\n",
    "score22 = classifier2.score(X_train, label_train)\n",
    "print(\"Accuracy of SVM model:\", score22)"
   ]
  },
  {
   "cell_type": "code",
   "execution_count": 84,
   "metadata": {},
   "outputs": [
    {
     "name": "stdout",
     "output_type": "stream",
     "text": [
      "[[ 1  3]\n",
      " [ 2 55]]\n"
     ]
    }
   ],
   "source": [
    "result_svm = classifier2.predict(X_test)\n",
    "print(confusion_matrix(label_test, result_svm))"
   ]
  },
  {
   "cell_type": "code",
   "execution_count": null,
   "metadata": {},
   "outputs": [],
   "source": []
  },
  {
   "cell_type": "code",
   "execution_count": null,
   "metadata": {},
   "outputs": [],
   "source": []
  },
  {
   "cell_type": "code",
   "execution_count": null,
   "metadata": {},
   "outputs": [],
   "source": []
  }
 ],
 "metadata": {
  "kernelspec": {
   "display_name": "Python [conda env:ml_env] *",
   "language": "python",
   "name": "conda-env-ml_env-py"
  },
  "language_info": {
   "codemirror_mode": {
    "name": "ipython",
    "version": 3
   },
   "file_extension": ".py",
   "mimetype": "text/x-python",
   "name": "python",
   "nbconvert_exporter": "python",
   "pygments_lexer": "ipython3",
   "version": "3.7.0"
  }
 },
 "nbformat": 4,
 "nbformat_minor": 4
}
