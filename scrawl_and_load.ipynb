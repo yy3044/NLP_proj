{
 "cells": [
  {
   "cell_type": "code",
   "execution_count": 1,
   "metadata": {},
   "outputs": [
    {
     "data": {
      "text/plain": [
       "['2020年11月12日涨停板早知道：七大利好有望发酵',\n",
       " '江苏省发布区块链产业发展计划 相关应用有望提速(附股)',\n",
       " '2020年11月11日涨停板早知道：七大利好有望发酵',\n",
       " '辉瑞新冠疫苗有效性超90% 这些疫苗概念股可关注(附股)',\n",
       " '2020年11月10日涨停板早知道：七大利好有望发酵']"
      ]
     },
     "execution_count": 1,
     "metadata": {},
     "output_type": "execute_result"
    }
   ],
   "source": [
    "import requests\n",
    "from lxml import etree\n",
    "\n",
    "def request_url(url):\n",
    "    user_agent = 'Mozilla/5.0 (Windows NT 10.0; Win64; x64) AppleWebKit/537.36 (KHTML, like Gecko) Chrome/59.0.3071.109 Safari/537.36'\n",
    "    headers = {'User-Agent': user_agent} \n",
    "    \n",
    "    res = requests.get(url,headers=headers)\n",
    "    res.encoding = 'utf-8'\n",
    "    return res.text\n",
    "\n",
    "url = 'https://finance.sina.com.cn/roll/index.d.html?cid=56588&page=4'\n",
    "selector = etree.HTML(request_url(url))\n",
    "pstring = '//*[@id=\"Main\"]/div[3]/ul[1]/li/a'\n",
    "\n",
    "selector.xpath(pstring)\n",
    "[x.text for x in selector.xpath(pstring)]"
   ]
  },
  {
   "cell_type": "code",
   "execution_count": 2,
   "metadata": {},
   "outputs": [],
   "source": [
    "from bs4 import BeautifulSoup\n",
    "\n",
    "content_list = []\n",
    "date_list = []\n",
    "for page in range(1, 800):\n",
    "    url = \"https://finance.sina.com.cn/roll/index.d.html?cid=56588&page={}\".format(page)\n",
    "    soup = BeautifulSoup(request_url(url), 'lxml')\n",
    "    for li in soup.find_all('li'):\n",
    "        if len(li.a.text) > 5 :\n",
    "            date_list.append(li.span.get_text()[1:6])\n",
    "            content_list.append(li.a.text)"
   ]
  },
  {
   "cell_type": "code",
   "execution_count": 3,
   "metadata": {},
   "outputs": [
    {
     "name": "stdout",
     "output_type": "stream",
     "text": [
      "35955\n",
      "盈趣科技：利润率过于优秀\n"
     ]
    }
   ],
   "source": [
    "print(len(content_list))\n",
    "print(content_list[0])"
   ]
  },
  {
   "cell_type": "code",
   "execution_count": 4,
   "metadata": {},
   "outputs": [],
   "source": [
    "import pandas as pd\n",
    "\n",
    "df = pd.DataFrame({\"date\":date_list, \"news\": content_list})"
   ]
  },
  {
   "cell_type": "code",
   "execution_count": 5,
   "metadata": {},
   "outputs": [
    {
     "data": {
      "text/html": [
       "<div>\n",
       "<style scoped>\n",
       "    .dataframe tbody tr th:only-of-type {\n",
       "        vertical-align: middle;\n",
       "    }\n",
       "\n",
       "    .dataframe tbody tr th {\n",
       "        vertical-align: top;\n",
       "    }\n",
       "\n",
       "    .dataframe thead th {\n",
       "        text-align: right;\n",
       "    }\n",
       "</style>\n",
       "<table border=\"1\" class=\"dataframe\">\n",
       "  <thead>\n",
       "    <tr style=\"text-align: right;\">\n",
       "      <th></th>\n",
       "      <th>date</th>\n",
       "      <th>news</th>\n",
       "    </tr>\n",
       "  </thead>\n",
       "  <tbody>\n",
       "    <tr>\n",
       "      <th>0</th>\n",
       "      <td>01月16</td>\n",
       "      <td>盈趣科技：利润率过于优秀</td>\n",
       "    </tr>\n",
       "    <tr>\n",
       "      <th>1</th>\n",
       "      <td>01月16</td>\n",
       "      <td>康鹏科技：核心主业停滞不前 新业务增长“疑窦丛生”</td>\n",
       "    </tr>\n",
       "    <tr>\n",
       "      <th>2</th>\n",
       "      <td>01月16</td>\n",
       "      <td>昊海生科：业绩骤降 减值风险显现</td>\n",
       "    </tr>\n",
       "    <tr>\n",
       "      <th>3</th>\n",
       "      <td>01月16</td>\n",
       "      <td>三房巷虚假陈述案诉讼时效即将到期 数百位受损股民已获赔偿</td>\n",
       "    </tr>\n",
       "    <tr>\n",
       "      <th>4</th>\n",
       "      <td>01月14</td>\n",
       "      <td>2021年1月15日涨停板早知道：七大利好有望发酵</td>\n",
       "    </tr>\n",
       "  </tbody>\n",
       "</table>\n",
       "</div>"
      ],
      "text/plain": [
       "    date                          news\n",
       "0  01月16                  盈趣科技：利润率过于优秀\n",
       "1  01月16     康鹏科技：核心主业停滞不前 新业务增长“疑窦丛生”\n",
       "2  01月16              昊海生科：业绩骤降 减值风险显现\n",
       "3  01月16  三房巷虚假陈述案诉讼时效即将到期 数百位受损股民已获赔偿\n",
       "4  01月14     2021年1月15日涨停板早知道：七大利好有望发酵"
      ]
     },
     "execution_count": 5,
     "metadata": {},
     "output_type": "execute_result"
    }
   ],
   "source": [
    "df.head()"
   ]
  },
  {
   "cell_type": "code",
   "execution_count": 6,
   "metadata": {},
   "outputs": [],
   "source": [
    "from snownlp import SnowNLP\n",
    "\n",
    "pos_news = []\n",
    "pod_date = []\n",
    "neg_news = []\n",
    "neg_date = []\n",
    "score = []\n",
    "\n",
    "df[\"score\"] = df[\"news\"]\n",
    "df[\"category\"] = df[\"news\"]\n",
    "#保存情感极性值小于等于0.5的结果为负面情感结果\n",
    "for i in range(0, df.shape[0]):\n",
    "    s = SnowNLP(df[\"news\"][i])\n",
    "    if s.sentiments <= 0.5:\n",
    "        df[\"score\"][i] = s.sentiments\n",
    "        df[\"category\"][i] = 0\n",
    "        neg_news.append(df[\"news\"][i])\n",
    "        neg_date.append(df[\"date\"][i])\n",
    "        score.append(s.sentiments)\n",
    "    else:\n",
    "        df[\"score\"][i] = s.sentiments\n",
    "        df[\"category\"][i] = 1\n",
    "        pos_news.append(df[\"news\"][i])\n",
    "        pod_date.append(df[\"date\"][i])\n",
    "        score.append(s.sentiments)"
   ]
  },
  {
   "cell_type": "code",
   "execution_count": 7,
   "metadata": {},
   "outputs": [
    {
     "name": "stdout",
     "output_type": "stream",
     "text": [
      "27131\n",
      "8824\n",
      "0.8962160765556467\n"
     ]
    }
   ],
   "source": [
    "print(len(pos_news))\n",
    "print(len(neg_news))\n",
    "print(score[0])"
   ]
  },
  {
   "cell_type": "code",
   "execution_count": 8,
   "metadata": {},
   "outputs": [],
   "source": [
    "df.to_csv(\"data/news_data_raw.csv\")"
   ]
  },
  {
   "cell_type": "code",
   "execution_count": 9,
   "metadata": {},
   "outputs": [
    {
     "data": {
      "text/html": [
       "<div>\n",
       "<style scoped>\n",
       "    .dataframe tbody tr th:only-of-type {\n",
       "        vertical-align: middle;\n",
       "    }\n",
       "\n",
       "    .dataframe tbody tr th {\n",
       "        vertical-align: top;\n",
       "    }\n",
       "\n",
       "    .dataframe thead th {\n",
       "        text-align: right;\n",
       "    }\n",
       "</style>\n",
       "<table border=\"1\" class=\"dataframe\">\n",
       "  <thead>\n",
       "    <tr style=\"text-align: right;\">\n",
       "      <th></th>\n",
       "      <th>date</th>\n",
       "      <th>news</th>\n",
       "      <th>score</th>\n",
       "      <th>category</th>\n",
       "    </tr>\n",
       "  </thead>\n",
       "  <tbody>\n",
       "    <tr>\n",
       "      <th>0</th>\n",
       "      <td>01月16</td>\n",
       "      <td>盈趣科技：利润率过于优秀</td>\n",
       "      <td>0.896216</td>\n",
       "      <td>1</td>\n",
       "    </tr>\n",
       "    <tr>\n",
       "      <th>1</th>\n",
       "      <td>01月16</td>\n",
       "      <td>康鹏科技：核心主业停滞不前 新业务增长“疑窦丛生”</td>\n",
       "      <td>0.881391</td>\n",
       "      <td>1</td>\n",
       "    </tr>\n",
       "    <tr>\n",
       "      <th>2</th>\n",
       "      <td>01月16</td>\n",
       "      <td>昊海生科：业绩骤降 减值风险显现</td>\n",
       "      <td>0.892718</td>\n",
       "      <td>1</td>\n",
       "    </tr>\n",
       "    <tr>\n",
       "      <th>3</th>\n",
       "      <td>01月16</td>\n",
       "      <td>三房巷虚假陈述案诉讼时效即将到期 数百位受损股民已获赔偿</td>\n",
       "      <td>0.0910783</td>\n",
       "      <td>0</td>\n",
       "    </tr>\n",
       "    <tr>\n",
       "      <th>4</th>\n",
       "      <td>01月14</td>\n",
       "      <td>2021年1月15日涨停板早知道：七大利好有望发酵</td>\n",
       "      <td>0.643451</td>\n",
       "      <td>1</td>\n",
       "    </tr>\n",
       "  </tbody>\n",
       "</table>\n",
       "</div>"
      ],
      "text/plain": [
       "    date                          news      score category\n",
       "0  01月16                  盈趣科技：利润率过于优秀   0.896216        1\n",
       "1  01月16     康鹏科技：核心主业停滞不前 新业务增长“疑窦丛生”   0.881391        1\n",
       "2  01月16              昊海生科：业绩骤降 减值风险显现   0.892718        1\n",
       "3  01月16  三房巷虚假陈述案诉讼时效即将到期 数百位受损股民已获赔偿  0.0910783        0\n",
       "4  01月14     2021年1月15日涨停板早知道：七大利好有望发酵   0.643451        1"
      ]
     },
     "execution_count": 9,
     "metadata": {},
     "output_type": "execute_result"
    }
   ],
   "source": [
    "df.head()"
   ]
  },
  {
   "cell_type": "code",
   "execution_count": 10,
   "metadata": {},
   "outputs": [
    {
     "data": {
      "text/plain": [
       "(35955, 4)"
      ]
     },
     "execution_count": 10,
     "metadata": {},
     "output_type": "execute_result"
    }
   ],
   "source": [
    "df.shape"
   ]
  },
  {
   "cell_type": "code",
   "execution_count": 11,
   "metadata": {},
   "outputs": [],
   "source": [
    "df.drop_duplicates(subset=[\"date\"], keep=\"first\" , inplace=True)"
   ]
  },
  {
   "cell_type": "code",
   "execution_count": 12,
   "metadata": {},
   "outputs": [
    {
     "data": {
      "text/plain": [
       "(241, 4)"
      ]
     },
     "execution_count": 12,
     "metadata": {},
     "output_type": "execute_result"
    }
   ],
   "source": [
    "df.shape"
   ]
  },
  {
   "cell_type": "code",
   "execution_count": 13,
   "metadata": {},
   "outputs": [
    {
     "data": {
      "text/html": [
       "<div>\n",
       "<style scoped>\n",
       "    .dataframe tbody tr th:only-of-type {\n",
       "        vertical-align: middle;\n",
       "    }\n",
       "\n",
       "    .dataframe tbody tr th {\n",
       "        vertical-align: top;\n",
       "    }\n",
       "\n",
       "    .dataframe thead th {\n",
       "        text-align: right;\n",
       "    }\n",
       "</style>\n",
       "<table border=\"1\" class=\"dataframe\">\n",
       "  <thead>\n",
       "    <tr style=\"text-align: right;\">\n",
       "      <th></th>\n",
       "      <th>date</th>\n",
       "      <th>news</th>\n",
       "      <th>score</th>\n",
       "      <th>category</th>\n",
       "    </tr>\n",
       "  </thead>\n",
       "  <tbody>\n",
       "    <tr>\n",
       "      <th>0</th>\n",
       "      <td>01月16</td>\n",
       "      <td>盈趣科技：利润率过于优秀</td>\n",
       "      <td>0.896216</td>\n",
       "      <td>1</td>\n",
       "    </tr>\n",
       "    <tr>\n",
       "      <th>4</th>\n",
       "      <td>01月14</td>\n",
       "      <td>2021年1月15日涨停板早知道：七大利好有望发酵</td>\n",
       "      <td>0.643451</td>\n",
       "      <td>1</td>\n",
       "    </tr>\n",
       "    <tr>\n",
       "      <th>5</th>\n",
       "      <td>01月13</td>\n",
       "      <td>2021年1月14日涨停板早知道：七大利好有望发酵</td>\n",
       "      <td>0.662349</td>\n",
       "      <td>1</td>\n",
       "    </tr>\n",
       "    <tr>\n",
       "      <th>6</th>\n",
       "      <td>01月12</td>\n",
       "      <td>2021年1月13日涨停板早知道：七大利好有望发酵</td>\n",
       "      <td>0.673256</td>\n",
       "      <td>1</td>\n",
       "    </tr>\n",
       "    <tr>\n",
       "      <th>7</th>\n",
       "      <td>01月11</td>\n",
       "      <td>2021年1月12日涨停板早知道：七大利好有望发酵</td>\n",
       "      <td>0.594757</td>\n",
       "      <td>1</td>\n",
       "    </tr>\n",
       "  </tbody>\n",
       "</table>\n",
       "</div>"
      ],
      "text/plain": [
       "    date                       news     score category\n",
       "0  01月16               盈趣科技：利润率过于优秀  0.896216        1\n",
       "4  01月14  2021年1月15日涨停板早知道：七大利好有望发酵  0.643451        1\n",
       "5  01月13  2021年1月14日涨停板早知道：七大利好有望发酵  0.662349        1\n",
       "6  01月12  2021年1月13日涨停板早知道：七大利好有望发酵  0.673256        1\n",
       "7  01月11  2021年1月12日涨停板早知道：七大利好有望发酵  0.594757        1"
      ]
     },
     "execution_count": 13,
     "metadata": {},
     "output_type": "execute_result"
    }
   ],
   "source": [
    "df.head()"
   ]
  },
  {
   "cell_type": "code",
   "execution_count": 14,
   "metadata": {},
   "outputs": [
    {
     "data": {
      "text/plain": [
       "05月19    1\n",
       "12月08    1\n",
       "05月12    1\n",
       "06月04    1\n",
       "07月31    1\n",
       "        ..\n",
       "07月24    1\n",
       "03月25    1\n",
       "11月15    1\n",
       "05月25    1\n",
       "05月11    1\n",
       "Name: date, Length: 241, dtype: int64"
      ]
     },
     "execution_count": 14,
     "metadata": {},
     "output_type": "execute_result"
    }
   ],
   "source": [
    "df[\"date\"].value_counts()"
   ]
  },
  {
   "cell_type": "code",
   "execution_count": 15,
   "metadata": {},
   "outputs": [],
   "source": [
    "df.to_csv(\"data/news_data.csv\")"
   ]
  },
  {
   "cell_type": "code",
   "execution_count": 16,
   "metadata": {},
   "outputs": [
    {
     "data": {
      "text/plain": [
       "array(['01月16', '01月14', '01月13', '01月12', '01月11', '01月10', '01月07',\n",
       "       '01月06', '01月05', '01月04', '01月03', '12月31', '12月30', '12月29',\n",
       "       '12月28', '12月27', '12月25', '12月24', '12月23', '12月22', '12月21',\n",
       "       '12月20', '12月17', '12月16', '12月15', '12月14', '12月13', '12月12',\n",
       "       '12月11', '12月10', '12月09', '12月08', '12月07', '12月06', '12月04',\n",
       "       '12月03', '12月02', '12月01', '11月30', '11月29', '11月28', '11月26',\n",
       "       '11月25', '11月24', '11月23', '11月22', '11月20', '11月19', '11月18',\n",
       "       '11月17', '11月16', '11月15', '11月13', '11月12', '11月11', '11月10',\n",
       "       '11月09', '11月08', '11月06', '11月05', '11月04', '11月03', '11月02',\n",
       "       '11月01', '10月30', '10月29', '10月28', '10月27', '10月26', '10月25',\n",
       "       '10月23', '10月22', '10月21', '10月20', '10月19', '10月18', '10月15',\n",
       "       '10月14', '10月13', '10月12', '10月11', '10月08', '09月29', '09月28',\n",
       "       '09月27', '09月24', '09月23', '09月22', '09月21', '09月20', '09月18',\n",
       "       '09月17', '09月16', '09月15', '09月14', '09月13', '09月10', '09月09',\n",
       "       '09月08', '09月07', '09月06', '09月04', '09月03', '09月02', '09月01',\n",
       "       '08月31', '08月30', '08月27', '08月26', '08月25', '08月24', '08月23',\n",
       "       '08月21', '08月20', '08月19', '08月18', '08月17', '08月16', '08月14',\n",
       "       '08月13', '08月12', '08月11', '08月10', '08月09', '08月07', '08月06',\n",
       "       '08月05', '08月04', '08月03', '08月02', '07月31', '07月30', '07月29',\n",
       "       '07月28', '07月27', '07月26', '07月25', '07月24', '07月23', '07月22',\n",
       "       '07月21', '07月20', '07月19', '07月16', '07月15', '07月14', '07月13',\n",
       "       '07月12', '07月09', '07月08', '07月07', '07月06', '07月05', '07月02',\n",
       "       '07月01', '06月30', '06月29', '06月28', '06月24', '06月23', '06月22',\n",
       "       '06月21', '06月18', '06月17', '06月16', '06月15', '06月14', '06月11',\n",
       "       '06月10', '06月09', '06月08', '06月07', '06月06', '06月04', '06月03',\n",
       "       '06月02', '06月01', '05月31', '05月29', '05月28', '05月27', '05月26',\n",
       "       '05月25', '05月24', '05月21', '05月20', '05月19', '05月18', '05月17',\n",
       "       '05月15', '05月14', '05月13', '05月12', '05月11', '05月10', '05月09',\n",
       "       '05月08', '05月07', '05月06', '05月05', '04月30', '04月29', '04月28',\n",
       "       '04月27', '04月26', '04月25', '04月24', '04月23', '04月22', '04月21',\n",
       "       '04月20', '04月19', '04月17', '04月16', '04月15', '04月14', '04月13',\n",
       "       '04月12', '04月10', '04月09', '04月08', '04月07', '04月06', '04月03',\n",
       "       '04月02', '04月01', '03月31', '03月30', '03月29', '03月27', '03月26',\n",
       "       '03月25', '03月24', '03月23', '03月22', '03月21', '03月20', '03月19',\n",
       "       '03月18', '03月17', '03月16'], dtype=object)"
      ]
     },
     "execution_count": 16,
     "metadata": {},
     "output_type": "execute_result"
    }
   ],
   "source": [
    "df.date.values"
   ]
  },
  {
   "cell_type": "code",
   "execution_count": 17,
   "metadata": {},
   "outputs": [
    {
     "name": "stdout",
     "output_type": "stream",
     "text": [
      "      date                          news      score category\n",
      "18   01月03      2021年1月4日涨停板早知道：七大利好有望发酵   0.675767        1\n",
      "19   12月31  德冠新材IPO过会 禁塑令下毛利率落后同行、偿债压力在身  0.0406899        0\n",
      "26   12月30    2020年12月31日涨停板早知道：七大利好有望发酵   0.789352        1\n",
      "32   12月29    2020年12月30日涨停板早知道：七大利好有望发酵   0.672372        1\n",
      "33   12月28    2020年12月29日涨停板早知道：七大利好有望发酵   0.608482        1\n",
      "..     ...                           ...        ...      ...\n",
      "288  10月15    2020年10月16日涨停板早知道：七大利好有望发酵   0.568952        1\n",
      "289  10月14    2020年10月15日涨停板早知道：七大利好有望发酵   0.669055        1\n",
      "290  10月13    2020年10月14日涨停板早知道：七大利好有望发酵   0.687255        1\n",
      "291  10月12    2020年10月13日涨停板早知道：七大利好有望发酵   0.697725        1\n",
      "292  10月11    2020年10月12日涨停板早知道：七大利好有望发酵   0.621802        1\n",
      "\n",
      "[71 rows x 4 columns]\n"
     ]
    }
   ],
   "source": [
    "# 取近三个月数据\n",
    "print(df.iloc[10:81])"
   ]
  },
  {
   "cell_type": "code",
   "execution_count": null,
   "metadata": {},
   "outputs": [],
   "source": []
  },
  {
   "cell_type": "code",
   "execution_count": null,
   "metadata": {},
   "outputs": [],
   "source": []
  },
  {
   "cell_type": "code",
   "execution_count": 18,
   "metadata": {},
   "outputs": [
    {
     "data": {
      "text/html": [
       "<div>\n",
       "<style scoped>\n",
       "    .dataframe tbody tr th:only-of-type {\n",
       "        vertical-align: middle;\n",
       "    }\n",
       "\n",
       "    .dataframe tbody tr th {\n",
       "        vertical-align: top;\n",
       "    }\n",
       "\n",
       "    .dataframe thead th {\n",
       "        text-align: right;\n",
       "    }\n",
       "</style>\n",
       "<table border=\"1\" class=\"dataframe\">\n",
       "  <thead>\n",
       "    <tr style=\"text-align: right;\">\n",
       "      <th></th>\n",
       "      <th>ts_code</th>\n",
       "      <th>trade_date</th>\n",
       "      <th>close</th>\n",
       "      <th>open</th>\n",
       "      <th>high</th>\n",
       "      <th>low</th>\n",
       "      <th>pre_close</th>\n",
       "      <th>change</th>\n",
       "      <th>pct_chg</th>\n",
       "      <th>vol</th>\n",
       "      <th>amount</th>\n",
       "    </tr>\n",
       "  </thead>\n",
       "  <tbody>\n",
       "    <tr>\n",
       "      <th>0</th>\n",
       "      <td>000001.SH</td>\n",
       "      <td>20201231</td>\n",
       "      <td>3473.0693</td>\n",
       "      <td>3419.7267</td>\n",
       "      <td>3474.9182</td>\n",
       "      <td>3419.7267</td>\n",
       "      <td>3414.4527</td>\n",
       "      <td>58.6166</td>\n",
       "      <td>1.7167</td>\n",
       "      <td>335673926.0</td>\n",
       "      <td>450482318.9</td>\n",
       "    </tr>\n",
       "    <tr>\n",
       "      <th>1</th>\n",
       "      <td>000001.SH</td>\n",
       "      <td>20201230</td>\n",
       "      <td>3414.4527</td>\n",
       "      <td>3375.0086</td>\n",
       "      <td>3414.4539</td>\n",
       "      <td>3374.4156</td>\n",
       "      <td>3379.0362</td>\n",
       "      <td>35.4165</td>\n",
       "      <td>1.0481</td>\n",
       "      <td>291023543.0</td>\n",
       "      <td>377542350.9</td>\n",
       "    </tr>\n",
       "    <tr>\n",
       "      <th>2</th>\n",
       "      <td>000001.SH</td>\n",
       "      <td>20201229</td>\n",
       "      <td>3379.0362</td>\n",
       "      <td>3399.2939</td>\n",
       "      <td>3407.0884</td>\n",
       "      <td>3376.0876</td>\n",
       "      <td>3397.2854</td>\n",
       "      <td>-18.2492</td>\n",
       "      <td>-0.5372</td>\n",
       "      <td>311769185.0</td>\n",
       "      <td>382102563.8</td>\n",
       "    </tr>\n",
       "    <tr>\n",
       "      <th>3</th>\n",
       "      <td>000001.SH</td>\n",
       "      <td>20201228</td>\n",
       "      <td>3397.2854</td>\n",
       "      <td>3396.3590</td>\n",
       "      <td>3412.5193</td>\n",
       "      <td>3383.6540</td>\n",
       "      <td>3396.5626</td>\n",
       "      <td>0.7228</td>\n",
       "      <td>0.0213</td>\n",
       "      <td>316181542.0</td>\n",
       "      <td>398159968.8</td>\n",
       "    </tr>\n",
       "    <tr>\n",
       "      <th>4</th>\n",
       "      <td>000001.SH</td>\n",
       "      <td>20201225</td>\n",
       "      <td>3396.5626</td>\n",
       "      <td>3351.7901</td>\n",
       "      <td>3397.0066</td>\n",
       "      <td>3348.3453</td>\n",
       "      <td>3363.1133</td>\n",
       "      <td>33.4493</td>\n",
       "      <td>0.9946</td>\n",
       "      <td>294546895.0</td>\n",
       "      <td>359094444.7</td>\n",
       "    </tr>\n",
       "  </tbody>\n",
       "</table>\n",
       "</div>"
      ],
      "text/plain": [
       "     ts_code trade_date      close       open       high        low  \\\n",
       "0  000001.SH   20201231  3473.0693  3419.7267  3474.9182  3419.7267   \n",
       "1  000001.SH   20201230  3414.4527  3375.0086  3414.4539  3374.4156   \n",
       "2  000001.SH   20201229  3379.0362  3399.2939  3407.0884  3376.0876   \n",
       "3  000001.SH   20201228  3397.2854  3396.3590  3412.5193  3383.6540   \n",
       "4  000001.SH   20201225  3396.5626  3351.7901  3397.0066  3348.3453   \n",
       "\n",
       "   pre_close   change  pct_chg          vol       amount  \n",
       "0  3414.4527  58.6166   1.7167  335673926.0  450482318.9  \n",
       "1  3379.0362  35.4165   1.0481  291023543.0  377542350.9  \n",
       "2  3397.2854 -18.2492  -0.5372  311769185.0  382102563.8  \n",
       "3  3396.5626   0.7228   0.0213  316181542.0  398159968.8  \n",
       "4  3363.1133  33.4493   0.9946  294546895.0  359094444.7  "
      ]
     },
     "execution_count": 18,
     "metadata": {},
     "output_type": "execute_result"
    }
   ],
   "source": [
    "# 观察近三个月的股市波动情况\n",
    "import tushare as ts\n",
    "\n",
    "token='80a0fc7a658d32315e77b9afd9af2f2bc4a6f5cea56f3b2c8c6f4ce6'\n",
    "ts.set_token(token)\n",
    "pro = ts.pro_api()\n",
    "data = pro.index_daily(ts_code='000001.SH', start_date='202001001', end_date='20210101')\n",
    "data.head()"
   ]
  },
  {
   "cell_type": "code",
   "execution_count": 19,
   "metadata": {},
   "outputs": [
    {
     "name": "stdout",
     "output_type": "stream",
     "text": [
      "(243, 11)\n"
     ]
    }
   ],
   "source": [
    "print(data.shape)\n",
    "data.to_csv(\"data/finance_data.csv\")"
   ]
  },
  {
   "cell_type": "code",
   "execution_count": 20,
   "metadata": {},
   "outputs": [
    {
     "data": {
      "text/plain": [
       "<AxesSubplot:>"
      ]
     },
     "execution_count": 20,
     "metadata": {},
     "output_type": "execute_result"
    },
    {
     "data": {
      "image/png": "[encoded data removed]",
      "text/plain": [
       "<Figure size 432x288 with 1 Axes>"
      ]
     },
     "metadata": {
      "needs_background": "light"
     },
     "output_type": "display_data"
    }
   ],
   "source": [
    "data.set_index(\"trade_date\")\n",
    "data[\"change\"].plot.line()"
   ]
  },
  {
   "cell_type": "code",
   "execution_count": 21,
   "metadata": {},
   "outputs": [
    {
     "data": {
      "text/plain": [
       "<AxesSubplot:>"
      ]
     },
     "execution_count": 21,
     "metadata": {},
     "output_type": "execute_result"
    },
    {
     "data": {
      "image/png": "[encoded data removed]",
      "text/plain": [
       "<Figure size 432x288 with 1 Axes>"
      ]
     },
     "metadata": {
      "needs_background": "light"
     },
     "output_type": "display_data"
    }
   ],
   "source": [
    "data[\"close\"].plot.line()"
   ]
  },
  {
   "cell_type": "code",
   "execution_count": null,
   "metadata": {},
   "outputs": [],
   "source": []
  }
 ],
 "metadata": {
  "kernelspec": {
   "display_name": "Python [conda env:ml_env] *",
   "language": "python",
   "name": "conda-env-ml_env-py"
  },
  "language_info": {
   "codemirror_mode": {
    "name": "ipython",
    "version": 3
   },
   "file_extension": ".py",
   "mimetype": "text/x-python",
   "name": "python",
   "nbconvert_exporter": "python",
   "pygments_lexer": "ipython3",
   "version": "3.7.0"
  }
 },
 "nbformat": 4,
 "nbformat_minor": 4
}
